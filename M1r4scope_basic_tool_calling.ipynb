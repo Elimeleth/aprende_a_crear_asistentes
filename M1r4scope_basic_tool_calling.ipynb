{
  "nbformat": 4,
  "nbformat_minor": 0,
  "metadata": {
    "colab": {
      "provenance": [],
      "authorship_tag": "ABX9TyPOwyirs6+VAaIGgXitiBgU",
      "include_colab_link": true
    },
    "kernelspec": {
      "name": "python3",
      "display_name": "Python 3"
    },
    "language_info": {
      "name": "python"
    }
  },
  "cells": [
    {
      "cell_type": "markdown",
      "metadata": {
        "id": "view-in-github",
        "colab_type": "text"
      },
      "source": [
        "<a href=\"https://colab.research.google.com/github/Elimeleth/aprende_a_crear_asistentes/blob/main/M1r4scope_basic_tool_calling.ipynb\" target=\"_parent\"><img src=\"https://colab.research.google.com/assets/colab-badge.svg\" alt=\"Open In Colab\"/></a>"
      ]
    },
    {
      "cell_type": "code",
      "execution_count": null,
      "metadata": {
        "id": "jW6w6zezH3J3"
      },
      "outputs": [],
      "source": [
        "%pip install -qqqU mirascope \"mirascope[gemini]\" tenacity \"mirascope[tenacity]\" google-generativeai"
      ]
    },
    {
      "cell_type": "code",
      "source": [
        "%pip show mirascope"
      ],
      "metadata": {
        "colab": {
          "base_uri": "https://localhost:8080/"
        },
        "id": "7KLPUqEvKLj6",
        "outputId": "5d5a7026-a508-4b12-976f-725a81a4536d"
      },
      "execution_count": null,
      "outputs": [
        {
          "output_type": "stream",
          "name": "stdout",
          "text": [
            "Name: mirascope\n",
            "Version: 1.1.1\n",
            "Summary: LLM abstractions that aren't obstructions\n",
            "Home-page: https://mirascope.io\n",
            "Author: \n",
            "Author-email: William Bakst <william@mirascope.io>, Brendan Kao <brendan@mirascope.io>\n",
            "License: MIT License\n",
            "        \n",
            "        Copyright (c) 2023 Mirascope, Inc.\n",
            "        \n",
            "        Permission is hereby granted, free of charge, to any person obtaining a copy\n",
            "        of this software and associated documentation files (the \"Software\"), to deal\n",
            "        in the Software without restriction, including without limitation the rights\n",
            "        to use, copy, modify, merge, publish, distribute, sublicense, and/or sell\n",
            "        copies of the Software, and to permit persons to whom the Software is\n",
            "        furnished to do so, subject to the following conditions:\n",
            "        \n",
            "        The above copyright notice and this permission notice shall be included in all\n",
            "        copies or substantial portions of the Software.\n",
            "        \n",
            "        THE SOFTWARE IS PROVIDED \"AS IS\", WITHOUT WARRANTY OF ANY KIND, EXPRESS OR\n",
            "        IMPLIED, INCLUDING BUT NOT LIMITED TO THE WARRANTIES OF MERCHANTABILITY,\n",
            "        FITNESS FOR A PARTICULAR PURPOSE AND NONINFRINGEMENT. IN NO EVENT SHALL THE\n",
            "        AUTHORS OR COPYRIGHT HOLDERS BE LIABLE FOR ANY CLAIM, DAMAGES OR OTHER\n",
            "        LIABILITY, WHETHER IN AN ACTION OF CONTRACT, TORT OR OTHERWISE, ARISING FROM,\n",
            "        OUT OF OR IN CONNECTION WITH THE SOFTWARE OR THE USE OR OTHER DEALINGS IN THE\n",
            "        SOFTWARE.\n",
            "Location: /usr/local/lib/python3.10/dist-packages\n",
            "Requires: docstring-parser, jiter, pydantic\n",
            "Required-by: \n"
          ]
        }
      ]
    },
    {
      "cell_type": "code",
      "source": [
        "from mirascope.core.gemini import gemini_call, GeminiDynamicConfig\n",
        "from mirascope.core import prompt_template\n",
        "from google.colab import userdata\n",
        "import google.generativeai as genai\n",
        "\n",
        "genai.configure(api_key=userdata.get(\"GOOGLE_API_KEY\"))"
      ],
      "metadata": {
        "id": "6VKGPVMuJNNO"
      },
      "execution_count": null,
      "outputs": []
    },
    {
      "cell_type": "code",
      "source": [
        "def set_name_to_uppercase(name: str)-> str:\n",
        "  \"\"\"Set the user name to uppsercase name. ej: juan -> JUAN\"\"\"\n",
        "  return name.upper()"
      ],
      "metadata": {
        "id": "YYsamZOhKP09"
      },
      "execution_count": null,
      "outputs": []
    },
    {
      "cell_type": "code",
      "source": [
        "@gemini_call(model=\"gemini-1.5-flash\", tools=[set_name_to_uppercase])\n",
        "@prompt_template(\n",
        "    \"\"\"\n",
        "      Always set the user'name to uppercase: useing `set_name_to_uppercase` tool.\n",
        "      {user_name}\n",
        "\n",
        "      dont translate the user name\n",
        "    \"\"\"\n",
        ")\n",
        "def assistant(user_name: str): ..."
      ],
      "metadata": {
        "id": "iLC3aPxMK82h"
      },
      "execution_count": null,
      "outputs": []
    },
    {
      "cell_type": "code",
      "source": [
        "response = assistant(\"fernando\")\n",
        "if tool:=response.tool:\n",
        "  print(tool.call())"
      ],
      "metadata": {
        "colab": {
          "base_uri": "https://localhost:8080/",
          "height": 35
        },
        "id": "0kpNQYmmLaV-",
        "outputId": "c4655a33-05a9-496b-98a3-48ab1fd1fbd3"
      },
      "execution_count": null,
      "outputs": [
        {
          "output_type": "stream",
          "name": "stdout",
          "text": [
            "FERNANDO\n"
          ]
        }
      ]
    },
    {
      "cell_type": "code",
      "source": [],
      "metadata": {
        "id": "NWdZT0E5OxGe"
      },
      "execution_count": null,
      "outputs": []
    }
  ]
}