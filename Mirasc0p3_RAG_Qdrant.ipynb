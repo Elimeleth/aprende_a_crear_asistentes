{
  "nbformat": 4,
  "nbformat_minor": 0,
  "metadata": {
    "colab": {
      "provenance": [],
      "authorship_tag": "ABX9TyPbGo3Kg6Shd0g0YCVE3Fhn",
      "include_colab_link": true
    },
    "kernelspec": {
      "name": "python3",
      "display_name": "Python 3"
    },
    "language_info": {
      "name": "python"
    }
  },
  "cells": [
    {
      "cell_type": "markdown",
      "metadata": {
        "id": "view-in-github",
        "colab_type": "text"
      },
      "source": [
        "<a href=\"https://colab.research.google.com/github/Elimeleth/aprende_a_crear_asistentes/blob/main/Mirasc0p3_RAG_Qdrant.ipynb\" target=\"_parent\"><img src=\"https://colab.research.google.com/assets/colab-badge.svg\" alt=\"Open In Colab\"/></a>"
      ]
    },
    {
      "cell_type": "code",
      "execution_count": null,
      "metadata": {
        "id": "boZe4HOYkpmX"
      },
      "outputs": [],
      "source": [
        "%pip install -qqqU mirascope qdrant-client sentence-transformers \"mirascope[groq]\" groq pydantic"
      ]
    },
    {
      "cell_type": "code",
      "source": [],
      "metadata": {
        "id": "mvyjs2fDQfCl"
      },
      "execution_count": null,
      "outputs": []
    },
    {
      "cell_type": "code",
      "source": [
        "%pip show mirascope"
      ],
      "metadata": {
        "colab": {
          "base_uri": "https://localhost:8080/"
        },
        "id": "McZFWxi_560Q",
        "outputId": "b0b38cb8-db04-463c-a209-33ebc2d0946b"
      },
      "execution_count": null,
      "outputs": [
        {
          "output_type": "stream",
          "name": "stdout",
          "text": [
            "Name: mirascope\n",
            "Version: 1.1.0\n",
            "Summary: LLM abstractions that aren't obstructions\n",
            "Home-page: https://mirascope.io\n",
            "Author: \n",
            "Author-email: William Bakst <william@mirascope.io>, Brendan Kao <brendan@mirascope.io>\n",
            "License: MIT License\n",
            "        \n",
            "        Copyright (c) 2023 Mirascope, Inc.\n",
            "        \n",
            "        Permission is hereby granted, free of charge, to any person obtaining a copy\n",
            "        of this software and associated documentation files (the \"Software\"), to deal\n",
            "        in the Software without restriction, including without limitation the rights\n",
            "        to use, copy, modify, merge, publish, distribute, sublicense, and/or sell\n",
            "        copies of the Software, and to permit persons to whom the Software is\n",
            "        furnished to do so, subject to the following conditions:\n",
            "        \n",
            "        The above copyright notice and this permission notice shall be included in all\n",
            "        copies or substantial portions of the Software.\n",
            "        \n",
            "        THE SOFTWARE IS PROVIDED \"AS IS\", WITHOUT WARRANTY OF ANY KIND, EXPRESS OR\n",
            "        IMPLIED, INCLUDING BUT NOT LIMITED TO THE WARRANTIES OF MERCHANTABILITY,\n",
            "        FITNESS FOR A PARTICULAR PURPOSE AND NONINFRINGEMENT. IN NO EVENT SHALL THE\n",
            "        AUTHORS OR COPYRIGHT HOLDERS BE LIABLE FOR ANY CLAIM, DAMAGES OR OTHER\n",
            "        LIABILITY, WHETHER IN AN ACTION OF CONTRACT, TORT OR OTHERWISE, ARISING FROM,\n",
            "        OUT OF OR IN CONNECTION WITH THE SOFTWARE OR THE USE OR OTHER DEALINGS IN THE\n",
            "        SOFTWARE.\n",
            "Location: /usr/local/lib/python3.10/dist-packages\n",
            "Requires: docstring-parser, jiter, pydantic\n",
            "Required-by: \n"
          ]
        }
      ]
    },
    {
      "cell_type": "code",
      "source": [
        "from qdrant_client import QdrantClient, models\n",
        "from google.colab import userdata\n",
        "import os\n",
        "\n",
        "os.environ[\"GROQ_API_KEY\"] = userdata.get(\"GROQ_API_KEY\")\n",
        "\n",
        "client = QdrantClient(api_key=userdata.get(\"QDRANT_API_KEY\"), url=userdata.get(\"QDRANT_URL\"))\n",
        "collection_name=\"gogh\""
      ],
      "metadata": {
        "id": "npFGTJYunoq6"
      },
      "execution_count": null,
      "outputs": []
    },
    {
      "cell_type": "code",
      "source": [
        "from sentence_transformers import SentenceTransformer\n",
        "\n",
        "model = SentenceTransformer(\"all-MiniLM-L6-v2\")"
      ],
      "metadata": {
        "colab": {
          "base_uri": "https://localhost:8080/"
        },
        "id": "jsTepea0nbII",
        "outputId": "7bc00c1b-ec69-47f0-a3a9-4dd0b150e5f1"
      },
      "execution_count": null,
      "outputs": [
        {
          "output_type": "stream",
          "name": "stderr",
          "text": [
            "/usr/local/lib/python3.10/dist-packages/sentence_transformers/cross_encoder/CrossEncoder.py:11: TqdmExperimentalWarning: Using `tqdm.autonotebook.tqdm` in notebook mode. Use `tqdm.tqdm` instead to force console mode (e.g. in jupyter console)\n",
            "  from tqdm.autonotebook import tqdm, trange\n",
            "/usr/local/lib/python3.10/dist-packages/huggingface_hub/utils/_token.py:89: UserWarning: \n",
            "The secret `HF_TOKEN` does not exist in your Colab secrets.\n",
            "To authenticate with the Hugging Face Hub, create a token in your settings tab (https://huggingface.co/settings/tokens), set it as secret in your Google Colab and restart your session.\n",
            "You will be able to reuse this secret in all of your notebooks.\n",
            "Please note that authentication is recommended but still optional to access public models or datasets.\n",
            "  warnings.warn(\n"
          ]
        }
      ]
    },
    {
      "cell_type": "code",
      "source": [
        "from mirascope.core import groq, prompt_template, BaseTool\n",
        "from pydantic import ConfigDict, Field, BaseModel\n",
        "from typing import List"
      ],
      "metadata": {
        "id": "HifCp1GVv1NE"
      },
      "execution_count": null,
      "outputs": []
    },
    {
      "cell_type": "code",
      "source": [
        "class QdrantRetrieval(BaseModel):\n",
        "    \"\"\"\n",
        "    Busca informacion relacionada a la query del cliente.\n",
        "\n",
        "    Args:\n",
        "      query: La query que el cliente ha realizado.\n",
        "\n",
        "    Returns:\n",
        "      Un string con la informacion relacionada a la query.\n",
        "    \"\"\"\n",
        "    query: str= Field(..., examples=[\"Precio del brunch\", \"Daypass pizza\", \"horarios\"])\n",
        "\n",
        "    model_config = ConfigDict(\n",
        "        json_schema_extra={\n",
        "            \"examples\": [\n",
        "                {\"query\": \"precio del brunch\"},\n",
        "                {\"query\": \"daypass pizza\"},\n",
        "                {\"query\": \"horarios\"},\n",
        "            ]\n",
        "        }\n",
        "    )\n",
        "\n",
        "    def call(self) -> str:\n",
        "      return qdrant_retrieval(self.query)\n",
        "\n",
        "def qdrant_retrieval(query: str) -> str:\n",
        "\n",
        "    try:\n",
        "      points = client.query_points(\n",
        "          collection_name,\n",
        "          prefetch=[\n",
        "              models.Prefetch(\n",
        "                  query=model.encode(query).tolist(),\n",
        "                  using=\"dense-vector\",\n",
        "                  limit=50,\n",
        "                  score_threshold=.35,\n",
        "              )\n",
        "          ],\n",
        "\n",
        "          query=model.encode(query, output_value=\"token_embeddings\").tolist(),\n",
        "          using=\"output-token-embeddings\",\n",
        "          limit=5,\n",
        "          score_threshold=.7,\n",
        "      ).points\n",
        "\n",
        "      return \"\\n\".join([point.payload[\"text\"] for point in points])\n",
        "    except Exception as e:\n",
        "      return str(e)"
      ],
      "metadata": {
        "id": "Nmy7Usm7nrlf"
      },
      "execution_count": null,
      "outputs": []
    },
    {
      "cell_type": "code",
      "source": [
        "from groq import Groq\n",
        "from groq.types.chat import ChatCompletionMessageParam\n",
        "\n",
        "llm = Groq(\n",
        "    api_key=os.environ[\"GROQ_API_KEY\"],\n",
        ")"
      ],
      "metadata": {
        "id": "6woJVb8MeTw7"
      },
      "execution_count": null,
      "outputs": []
    },
    {
      "cell_type": "code",
      "source": [
        "class Assistant(BaseModel):\n",
        "    history: list[ChatCompletionMessageParam] = []\n",
        "\n",
        "    @groq.call(model=\"llama3-groq-70b-8192-tool-use-preview\", stream=True, client=llm, tools=[QdrantRetrieval])\n",
        "    @prompt_template(\n",
        "        \"\"\"\n",
        "        SYSTEM:\n",
        "        Eres Marina, encargado del restaurante Rancho Santa Marina.\n",
        "        Tu tarea es responder preguntas sobre el restaurante.\n",
        "        Usa la tool `qdrant_retrieval` para obtener la informacion necesaria sobre la pregunta del cliente.\n",
        "        Finalmente provee una respuesta breve no mas de 3 lineas.\n",
        "\n",
        "        MESSAGES:\n",
        "        {self.history}\n",
        "\n",
        "        USER:\n",
        "        {question}\n",
        "        \"\"\"\n",
        "    )\n",
        "    def _step(self, question: str): ...\n",
        "\n",
        "    def run(self, user_query: str) -> str:\n",
        "      stream = self._step(user_query)\n",
        "      result, tools_and_outputs = \"\", []\n",
        "      for chunk, tool in stream:\n",
        "          if tool:\n",
        "              tools_and_outputs.append((tool, tool.call()))\n",
        "          else:\n",
        "              result += chunk.content\n",
        "      if stream.user_message_param:\n",
        "          self.history.append(stream.user_message_param)\n",
        "      self.history.append(stream.message_param)\n",
        "      if tools_and_outputs:\n",
        "          self.history += stream.tool_message_params(tools_and_outputs)\n",
        "          return self.run(\"\")\n",
        "      return result"
      ],
      "metadata": {
        "id": "77HAh6_zq2C2"
      },
      "execution_count": null,
      "outputs": []
    },
    {
      "cell_type": "code",
      "source": [
        "Assistant().run(\"los menoras pagan daypass verano?\")"
      ],
      "metadata": {
        "colab": {
          "base_uri": "https://localhost:8080/",
          "height": 71
        },
        "id": "PAN9t6NNjtUc",
        "outputId": "35d8c460-22d9-4c3e-ad8d-bf6add38ef55"
      },
      "execution_count": null,
      "outputs": [
        {
          "output_type": "execute_result",
          "data": {
            "text/plain": [
              "'Sí, los menores pagan el Daypass de Verano. La promoción activa incluye un taller de pizza familiar con un precio especial. El menú del taller incluye: 1 pizza, ensalada, postre y agua del día por persona. El precio es de $400 pesos por persona, menor y acompañante. La experiencia dura 4 horas.'"
            ],
            "application/vnd.google.colaboratory.intrinsic+json": {
              "type": "string"
            }
          },
          "metadata": {},
          "execution_count": 244
        }
      ]
    },
    {
      "cell_type": "code",
      "source": [],
      "metadata": {
        "id": "afla74Jvp0Y7"
      },
      "execution_count": null,
      "outputs": []
    }
  ]
}