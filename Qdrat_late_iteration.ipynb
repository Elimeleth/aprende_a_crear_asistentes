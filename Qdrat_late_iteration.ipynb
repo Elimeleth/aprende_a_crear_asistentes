{
  "nbformat": 4,
  "nbformat_minor": 0,
  "metadata": {
    "colab": {
      "provenance": [],
      "authorship_tag": "ABX9TyMiX51qmdpzz3b2xquMO0En",
      "include_colab_link": true
    },
    "kernelspec": {
      "name": "python3",
      "display_name": "Python 3"
    },
    "language_info": {
      "name": "python"
    }
  },
  "cells": [
    {
      "cell_type": "markdown",
      "metadata": {
        "id": "view-in-github",
        "colab_type": "text"
      },
      "source": [
        "<a href=\"https://colab.research.google.com/github/Elimeleth/aprende_a_crear_asistentes/blob/main/Qdrat_late_iteration.ipynb\" target=\"_parent\"><img src=\"https://colab.research.google.com/assets/colab-badge.svg\" alt=\"Open In Colab\"/></a>"
      ]
    },
    {
      "cell_type": "code",
      "execution_count": null,
      "metadata": {
        "id": "taIxy3SLv7gB"
      },
      "outputs": [],
      "source": [
        "%pip install -Uq qdrant-client fastembed sentence-transformers langchain-text-splitters"
      ]
    },
    {
      "cell_type": "code",
      "source": [
        "from langchain_text_splitters import RecursiveCharacterTextSplitter\n",
        "\n",
        "# Load example document\n",
        "with open(\"data.txt\") as f:\n",
        "    data = f.read()\n",
        "\n",
        "text_splitter = RecursiveCharacterTextSplitter(\n",
        "    # Set a really small chunk size, just to show.\n",
        "    chunk_size=900,\n",
        "    chunk_overlap=400,\n",
        "    length_function=len,\n",
        "    is_separator_regex=False,\n",
        ")\n",
        "docs = text_splitter.create_documents([data])\n",
        "\n",
        "docs[0]"
      ],
      "metadata": {
        "colab": {
          "base_uri": "https://localhost:8080/"
        },
        "id": "gzEMElZtwEvY",
        "outputId": "d91b3ee2-fedc-4738-eb0f-dd603cabd523"
      },
      "execution_count": null,
      "outputs": [
        {
          "output_type": "execute_result",
          "data": {
            "text/plain": [
              "Document(page_content='Taller de Asado: \\nRancho Santa Marina te ofrece una master class de asado en nuestra cocina de humo, donde aprenderás a elaborar todo un menú de humo y podrás disfrutar con tu familia, pareja o amigos de un día inolvidable cocinando. Empezarás dando una visita guiada por el rancho para que conozcas lo que producimos y como lo hacemos para luego ponerte tu mandil y cocinar. Disfrutaras tu menú acompañado de bebidas naturales y/o cerveza!\\nCupo limitado: 10 personas mayores de 14 años\\nDías de operación: 11 am cada primer sábado de mes o de Miércoles a Domingo con reservación con 24 horas de anticipación.\\nDuración de la experiencia: 5 horas.\\nPrecio adulto: +14 años $1,170.00 MN\\nNo necesitas traer nada, todos los materiales e insumos necesarios están incluidos.\\nEs una experiencia ideal para celebrar alguna fecha especial o como dinámica de integración para grupos!')"
            ]
          },
          "metadata": {},
          "execution_count": 11
        }
      ]
    },
    {
      "cell_type": "code",
      "source": [
        "texts = [d.page_content for d in docs]\n",
        "texts[0]"
      ],
      "metadata": {
        "colab": {
          "base_uri": "https://localhost:8080/",
          "height": 125
        },
        "id": "1FkkIDMgzvIL",
        "outputId": "093055e4-243a-476c-b5fa-f3c1dd922243"
      },
      "execution_count": null,
      "outputs": [
        {
          "output_type": "execute_result",
          "data": {
            "text/plain": [
              "'Taller de Asado: \\nRancho Santa Marina te ofrece una master class de asado en nuestra cocina de humo, donde aprenderás a elaborar todo un menú de humo y podrás disfrutar con tu familia, pareja o amigos de un día inolvidable cocinando. Empezarás dando una visita guiada por el rancho para que conozcas lo que producimos y como lo hacemos para luego ponerte tu mandil y cocinar. Disfrutaras tu menú acompañado de bebidas naturales y/o cerveza!\\nCupo limitado: 10 personas mayores de 14 años\\nDías de operación: 11 am cada primer sábado de mes o de Miércoles a Domingo con reservación con 24 horas de anticipación.\\nDuración de la experiencia: 5 horas.\\nPrecio adulto: +14 años $1,170.00 MN\\nNo necesitas traer nada, todos los materiales e insumos necesarios están incluidos.\\nEs una experiencia ideal para celebrar alguna fecha especial o como dinámica de integración para grupos!'"
            ],
            "application/vnd.google.colaboratory.intrinsic+json": {
              "type": "string"
            }
          },
          "metadata": {},
          "execution_count": 12
        }
      ]
    },
    {
      "cell_type": "code",
      "source": [
        "from qdrant_client import QdrantClient, models\n",
        "from google.colab import userdata\n",
        "\n",
        "client = QdrantClient(api_key=userdata.get(\"QDRANT_API_KEY\"), url=userdata.get(\"QDRANT_URL\"))\n",
        "collection_name=\"gogh\"\n",
        "client.recreate_collection(\n",
        "    collection_name,\n",
        "    vectors_config={\n",
        "        \"dense-vector\": models.VectorParams(\n",
        "            size=384,\n",
        "            distance=models.Distance.COSINE,\n",
        "        ),\n",
        "        \"output-token-embeddings\": models.VectorParams(\n",
        "            size=384, # si usas sentence-transformer ambos son 384 :)\n",
        "            distance=models.Distance.COSINE,\n",
        "            multivector_config=models.MultiVectorConfig(\n",
        "                comparator=models.MultiVectorComparator.MAX_SIM\n",
        "            ),\n",
        "        ),\n",
        "    }\n",
        ")\n"
      ],
      "metadata": {
        "colab": {
          "base_uri": "https://localhost:8080/"
        },
        "id": "oLvqrcSqxUcO",
        "outputId": "f4cc999d-f6fd-4405-ee41-a9b7a4e970b7"
      },
      "execution_count": null,
      "outputs": [
        {
          "output_type": "stream",
          "name": "stderr",
          "text": [
            "<ipython-input-98-12796f68f9a2>:6: DeprecationWarning: `recreate_collection` method is deprecated and will be removed in the future. Use `collection_exists` to check collection existence and `create_collection` instead.\n",
            "  client.recreate_collection(\n"
          ]
        },
        {
          "output_type": "execute_result",
          "data": {
            "text/plain": [
              "True"
            ]
          },
          "metadata": {},
          "execution_count": 98
        }
      ]
    },
    {
      "cell_type": "code",
      "source": [
        "from sentence_transformers import SentenceTransformer\n",
        "\n",
        "model = SentenceTransformer(\"all-MiniLM-L6-v2\")\n",
        "\n",
        "dense_embeddings = list(model.encode(texts))\n",
        "late_embeddings = list(model.encode(texts, output_value=\"token_embeddings\"))\n",
        "\n",
        "dense_embeddings[0].shape, late_embeddings[0].shape"
      ],
      "metadata": {
        "colab": {
          "base_uri": "https://localhost:8080/"
        },
        "id": "viWd81w50FfY",
        "outputId": "978ed890-eb4d-4ab7-e31d-ba2063d0e970"
      },
      "execution_count": null,
      "outputs": [
        {
          "output_type": "execute_result",
          "data": {
            "text/plain": [
              "((384,), torch.Size([256, 384]))"
            ]
          },
          "metadata": {},
          "execution_count": 99
        }
      ]
    },
    {
      "cell_type": "code",
      "source": [
        "BATCH_SIZE = 10  # Adjust this based on your data and Qdrant limits\n",
        "\n",
        "for i in range(0, len(texts), BATCH_SIZE):\n",
        "    batch_ids = [id for id in range(i, min(i + BATCH_SIZE, len(texts)))]\n",
        "    batch_payloads = [{\"text\": text} for text in texts[i: i + BATCH_SIZE]]\n",
        "    batch_dense_embeddings = dense_embeddings[i: i + BATCH_SIZE]\n",
        "    batch_late_embeddings = late_embeddings[i: i + BATCH_SIZE]\n",
        "\n",
        "\n",
        "    client.upsert(\n",
        "        collection_name,\n",
        "        points=models.Batch(\n",
        "            ids=batch_ids,\n",
        "            payloads=batch_payloads,\n",
        "            vectors={\n",
        "                \"dense-vector\": batch_dense_embeddings,\n",
        "                \"output-token-embeddings\": batch_late_embeddings,\n",
        "            },\n",
        "        ),\n",
        "    )\n",
        "    print(f\"Uploaded batch {i // BATCH_SIZE + 1}\") # Optional: Print progress"
      ],
      "metadata": {
        "colab": {
          "base_uri": "https://localhost:8080/"
        },
        "id": "lM2UXLhp0XwG",
        "outputId": "8d687655-953a-46e4-ff54-3bef86349362"
      },
      "execution_count": null,
      "outputs": [
        {
          "output_type": "stream",
          "name": "stdout",
          "text": [
            "Uploaded batch 1\n",
            "Uploaded batch 2\n",
            "Uploaded batch 3\n"
          ]
        }
      ]
    },
    {
      "cell_type": "code",
      "source": [
        "query = \"daypass verano\"\n",
        "\n",
        "points = client.query_points(\n",
        "    collection_name,\n",
        "    prefetch=[\n",
        "        models.Prefetch(\n",
        "            query=model.encode(query).tolist(), #si usas sentence transformer :)\n",
        "            using=\"dense-vector\",\n",
        "            limit=50,\n",
        "            score_threshold=.39,\n",
        "        )\n",
        "    ],\n",
        "    query=model.encode(query, output_value=\"token_embeddings\").tolist(), # si usas sentence transformer\n",
        "    using=\"output-token-embeddings\",\n",
        "    limit=3,\n",
        "    score_threshold=.8,\n",
        ")\n",
        "points"
      ],
      "metadata": {
        "colab": {
          "base_uri": "https://localhost:8080/"
        },
        "id": "0Fh3Lx4f034d",
        "outputId": "6429b2c7-8cfb-4251-d2f3-1b902b5edda5"
      },
      "execution_count": null,
      "outputs": [
        {
          "output_type": "execute_result",
          "data": {
            "text/plain": [
              "QueryResponse(points=[ScoredPoint(id=15, version=1, score=4.495835, payload={'text': '[PROMOCIONES ACTIVAS EN EL DAYPASS VERANO, INCLUYE PIZZA] \\n¡Reserva para estas vacaciones el Daypass de Verano!\\nDisfruta todo Julio y Agosto los miércoles, jueves y viernes del taller de pizza familiar con un precio especial.\\nIncluye visita guiada con actividades en el huerto y convivencia con los animales, no olvides que los niños siempre tendrán que ir acompañados de un adulto.\\nEl menú del taller incluye: 1 pizza, ensalada, postre y agua del día por persona.\\n$400 pesos por persona incluido menores\\nEl precio se paga por persona, menor y acompañante\\nDuración de la experiencia de 4 horas \\nSi quieres quedarte más tiempo en el Rancho tenemos espacios para jugar.\\nSolo con reservación!\\nenlace: https://ranchosantamarina.com/daypass-de-verano/'}, vector=None, shard_key=None, order_value=None)])"
            ]
          },
          "metadata": {},
          "execution_count": 101
        }
      ]
    },
    {
      "cell_type": "code",
      "source": [],
      "metadata": {
        "id": "smGpKP1J41CP"
      },
      "execution_count": null,
      "outputs": []
    }
  ]
}